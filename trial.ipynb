{
 "cells": [
  {
   "cell_type": "code",
   "execution_count": 5,
   "metadata": {
    "collapsed": true
   },
   "outputs": [],
   "source": [
    "import cv2\n",
    "import numpy as np\n",
    "import face_recognition"
   ]
  },
  {
   "cell_type": "code",
   "execution_count": 7,
   "outputs": [
    {
     "name": "stdout",
     "output_type": "stream",
     "text": [
      "I found 4 face(s) in this photograph.\n"
     ]
    }
   ],
   "source": [
    "all = []\n",
    "image = face_recognition.load_image_file(\"IMG_1741.JPG\")\n",
    "face_locations = face_recognition.face_locations(image)\n",
    "from PIL import Image\n",
    "print(\"I found {} face(s) in this photograph.\".format(len(face_locations)))\n",
    "\n",
    "for face_location in face_locations:\n",
    "\n",
    "    top, right, bottom, left = face_location\n",
    "    face_image = image[top:bottom, left:right]\n",
    "    pil_image = Image.fromarray(face_image)\n",
    "    all.append(face_image)"
   ],
   "metadata": {
    "collapsed": false
   }
  },
  {
   "cell_type": "code",
   "execution_count": null,
   "outputs": [],
   "source": [
    "from os import listdir\n",
    "from os.path import isfile, join\n",
    "\n",
    "mypath='people'\n",
    "\n",
    "onlyfiles = [ f for f in listdir(mypath) if isfile(join(mypath,f)) ]\n",
    "images = np.empty(len(onlyfiles), dtype=object)\n",
    "for n in range(0, len(onlyfiles)):\n",
    "  images[n] = cv2.imread( join(mypath,onlyfiles[n]) )\n",
    "\n",
    "onlyfiles"
   ],
   "metadata": {
    "collapsed": false
   }
  },
  {
   "cell_type": "code",
   "execution_count": null,
   "outputs": [],
   "source": [
    "gayu = face_recognition.load_image_file(\"people/gayatri.jpg\")\n",
    "sagar = face_recognition.load_image_file(\"people/sagar.jpeg\")\n",
    "teju = face_recognition.load_image_file(\"people/tejal.jpeg\")\n",
    "akshad = face_recognition.load_image_file(\"people/akshad.jpeg\")\n",
    "try:\n",
    "    gayu_enc = face_recognition.face_encodings(gayu)[0]\n",
    "    sagar_enc = face_recognition.face_encodings(sagar)[0]\n",
    "    teju_enc = face_recognition.face_encodings(teju)[0]\n",
    "    akshad_enc = face_recognition.face_encodings(akshad)[0]\n",
    "\n",
    "except IndexError:\n",
    "    print(\"I wasn't able to locate any faces in at least one of the images. Check the image files. Aborting...\")\n",
    "    quit()\n",
    "\n",
    "known_faces = [gayu_enc, akshad_enc, teju_enc, sagar_enc]\n",
    "names = [\"Gayatri\", \"Akshad\", \"Tejal\", \"Sagar\"]\n",
    "for i in all:\n",
    "    unknown_enc = face_recognition.face_encodings(i)[0]\n",
    "    results = face_recognition.compare_faces(known_faces, unknown_enc)\n",
    "    for j in range(len(results)):\n",
    "        if results[j]:\n",
    "            print(names[j])"
   ],
   "metadata": {
    "collapsed": false
   }
  }
 ],
 "metadata": {
  "kernelspec": {
   "display_name": "Python 3",
   "language": "python",
   "name": "python3"
  },
  "language_info": {
   "codemirror_mode": {
    "name": "ipython",
    "version": 2
   },
   "file_extension": ".py",
   "mimetype": "text/x-python",
   "name": "python",
   "nbconvert_exporter": "python",
   "pygments_lexer": "ipython2",
   "version": "2.7.6"
  }
 },
 "nbformat": 4,
 "nbformat_minor": 0
}
